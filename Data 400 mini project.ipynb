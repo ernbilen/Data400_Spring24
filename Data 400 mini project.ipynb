{
 "cells": [
  {
   "cell_type": "code",
   "execution_count": 2,
   "id": "a1d48eb6",
   "metadata": {},
   "outputs": [],
   "source": [
    "import pandas as pd\n",
    "from rdkit import Chem\n",
    "from rdkit.Chem import Draw"
   ]
  },
  {
   "cell_type": "code",
   "execution_count": 9,
   "id": "1ed653c0",
   "metadata": {},
   "outputs": [
    {
     "data": {
      "text/html": [
       "<div>\n",
       "<style scoped>\n",
       "    .dataframe tbody tr th:only-of-type {\n",
       "        vertical-align: middle;\n",
       "    }\n",
       "\n",
       "    .dataframe tbody tr th {\n",
       "        vertical-align: top;\n",
       "    }\n",
       "\n",
       "    .dataframe thead th {\n",
       "        text-align: right;\n",
       "    }\n",
       "</style>\n",
       "<table border=\"1\" class=\"dataframe\">\n",
       "  <thead>\n",
       "    <tr style=\"text-align: right;\">\n",
       "      <th></th>\n",
       "      <th>reactants</th>\n",
       "      <th>products</th>\n",
       "      <th>reagents</th>\n",
       "      <th>Yield</th>\n",
       "    </tr>\n",
       "  </thead>\n",
       "  <tbody>\n",
       "    <tr>\n",
       "      <th>0</th>\n",
       "      <td>Cc1cccc(C)c1NC(=O)CN1CCN([C@@H]2CCN[C@@H](Cc3c...</td>\n",
       "      <td>Cc1cccc(C)c1NC(=O)CN1CCN([C@@H]2CCN(C(=O)c3cc(...</td>\n",
       "      <td>CCN(CC)CC.ClCCl</td>\n",
       "      <td>44.0</td>\n",
       "    </tr>\n",
       "    <tr>\n",
       "      <th>1</th>\n",
       "      <td>COc1ccc2c(c1)C(=O)C(=O)N2CC(=O)OC(C)(C)C</td>\n",
       "      <td>COc1ccc2c(c1)C(=O)C(=O)N2CC(=O)O</td>\n",
       "      <td>ClCCl.O=C(O)C(F)(F)F</td>\n",
       "      <td>91.0</td>\n",
       "    </tr>\n",
       "    <tr>\n",
       "      <th>2</th>\n",
       "      <td>CCCCCCCC/C=C\\CCCCCCCC(=O)OC.CN1CCCC1CCN</td>\n",
       "      <td>CCCCCCCC/C=C\\CCCCCCCC(=O)NCCC1CCCN1C</td>\n",
       "      <td>Cc1ccccc1.Cl.[Na+].[OH-]</td>\n",
       "      <td>62.1</td>\n",
       "    </tr>\n",
       "    <tr>\n",
       "      <th>3</th>\n",
       "      <td>COC(=O)c1nc(-c2ccc(Cl)cc2F)cc(N)c1Cl.O=[N+]([O...</td>\n",
       "      <td>COC(=O)c1nc(-c2cc([N+](=O)[O-])c(Cl)cc2F)cc(N)...</td>\n",
       "      <td>O=S(=O)(O)O.[Na+]</td>\n",
       "      <td>84.4</td>\n",
       "    </tr>\n",
       "    <tr>\n",
       "      <th>4</th>\n",
       "      <td>Cc1ccc(B(O)O)cc1.Nc1ccccc1I</td>\n",
       "      <td>Cc1ccc(-c2ccccc2N)cc1</td>\n",
       "      <td>C1CCOC1.ClCCl.Cl[Pd]Cl.[Fe+2].[Na+].[OH-].c1cc...</td>\n",
       "      <td>78.0</td>\n",
       "    </tr>\n",
       "    <tr>\n",
       "      <th>...</th>\n",
       "      <td>...</td>\n",
       "      <td>...</td>\n",
       "      <td>...</td>\n",
       "      <td>...</td>\n",
       "    </tr>\n",
       "    <tr>\n",
       "      <th>143530</th>\n",
       "      <td>BrCc1ccccc1.CC1(C)[C@H]2CC[C@]1(C)c1[nH]n(-c3c...</td>\n",
       "      <td>CC1(C)[C@H]2CC[C@]1(C)c1c2c(=O)n(-c2ccc(F)cc2C...</td>\n",
       "      <td>CCCC[N+](CCCC)(CCCC)CCCC.CN(C)C=O.[I-]</td>\n",
       "      <td>42.8</td>\n",
       "    </tr>\n",
       "    <tr>\n",
       "      <th>143531</th>\n",
       "      <td>C=CC(=O)Cl.CN1CCN(c2ccc(Nc3nc(Oc4cccc(N)c4)c4s...</td>\n",
       "      <td>C=CC(=O)Nc1cccc(Oc2nc(Nc3ccc(N4CCN(C)CC4)cc3)n...</td>\n",
       "      <td>C1CCOC1.O.O=C([O-])O.[Na+]</td>\n",
       "      <td>68.2</td>\n",
       "    </tr>\n",
       "    <tr>\n",
       "      <th>143532</th>\n",
       "      <td>CCOC(=O)C(=NOC)C1(C)OCCO1</td>\n",
       "      <td>CON=C(C(=O)O)C1(C)OCCO1</td>\n",
       "      <td>CCO.Cl.[Na+].[OH-]</td>\n",
       "      <td>99.3</td>\n",
       "    </tr>\n",
       "    <tr>\n",
       "      <th>143533</th>\n",
       "      <td>CS(=O)(=O)c1ccc(C(CC2CCCC2)C(=O)O)cc1.Nc1nc2cc...</td>\n",
       "      <td>CS(=O)(=O)c1ccc(C(CC2CCCC2)C(=O)Nc2nc3ccccc3s2...</td>\n",
       "      <td>CCN(CC)CC.CN(C)[P+](On1nnc2ccccc21)(N(C)C)N(C)...</td>\n",
       "      <td>65.9</td>\n",
       "    </tr>\n",
       "    <tr>\n",
       "      <th>143534</th>\n",
       "      <td>CN(CCN(C)C(=O)OC(C)(C)C)Cc1nn(C2CCCCO2)c2ccc(O...</td>\n",
       "      <td>CN(CCN(C)C(=O)OC(C)(C)C)Cc1nn(C2CCCCO2)c2ccc(O...</td>\n",
       "      <td>CO.[Ni]</td>\n",
       "      <td>77.0</td>\n",
       "    </tr>\n",
       "  </tbody>\n",
       "</table>\n",
       "<p>143535 rows × 4 columns</p>\n",
       "</div>"
      ],
      "text/plain": [
       "                                                reactants  \\\n",
       "0       Cc1cccc(C)c1NC(=O)CN1CCN([C@@H]2CCN[C@@H](Cc3c...   \n",
       "1                COc1ccc2c(c1)C(=O)C(=O)N2CC(=O)OC(C)(C)C   \n",
       "2                 CCCCCCCC/C=C\\CCCCCCCC(=O)OC.CN1CCCC1CCN   \n",
       "3       COC(=O)c1nc(-c2ccc(Cl)cc2F)cc(N)c1Cl.O=[N+]([O...   \n",
       "4                             Cc1ccc(B(O)O)cc1.Nc1ccccc1I   \n",
       "...                                                   ...   \n",
       "143530  BrCc1ccccc1.CC1(C)[C@H]2CC[C@]1(C)c1[nH]n(-c3c...   \n",
       "143531  C=CC(=O)Cl.CN1CCN(c2ccc(Nc3nc(Oc4cccc(N)c4)c4s...   \n",
       "143532                          CCOC(=O)C(=NOC)C1(C)OCCO1   \n",
       "143533  CS(=O)(=O)c1ccc(C(CC2CCCC2)C(=O)O)cc1.Nc1nc2cc...   \n",
       "143534  CN(CCN(C)C(=O)OC(C)(C)C)Cc1nn(C2CCCCO2)c2ccc(O...   \n",
       "\n",
       "                                                 products  \\\n",
       "0       Cc1cccc(C)c1NC(=O)CN1CCN([C@@H]2CCN(C(=O)c3cc(...   \n",
       "1                        COc1ccc2c(c1)C(=O)C(=O)N2CC(=O)O   \n",
       "2                    CCCCCCCC/C=C\\CCCCCCCC(=O)NCCC1CCCN1C   \n",
       "3       COC(=O)c1nc(-c2cc([N+](=O)[O-])c(Cl)cc2F)cc(N)...   \n",
       "4                                   Cc1ccc(-c2ccccc2N)cc1   \n",
       "...                                                   ...   \n",
       "143530  CC1(C)[C@H]2CC[C@]1(C)c1c2c(=O)n(-c2ccc(F)cc2C...   \n",
       "143531  C=CC(=O)Nc1cccc(Oc2nc(Nc3ccc(N4CCN(C)CC4)cc3)n...   \n",
       "143532                            CON=C(C(=O)O)C1(C)OCCO1   \n",
       "143533  CS(=O)(=O)c1ccc(C(CC2CCCC2)C(=O)Nc2nc3ccccc3s2...   \n",
       "143534  CN(CCN(C)C(=O)OC(C)(C)C)Cc1nn(C2CCCCO2)c2ccc(O...   \n",
       "\n",
       "                                                 reagents  Yield  \n",
       "0                                         CCN(CC)CC.ClCCl   44.0  \n",
       "1                                    ClCCl.O=C(O)C(F)(F)F   91.0  \n",
       "2                                Cc1ccccc1.Cl.[Na+].[OH-]   62.1  \n",
       "3                                       O=S(=O)(O)O.[Na+]   84.4  \n",
       "4       C1CCOC1.ClCCl.Cl[Pd]Cl.[Fe+2].[Na+].[OH-].c1cc...   78.0  \n",
       "...                                                   ...    ...  \n",
       "143530             CCCC[N+](CCCC)(CCCC)CCCC.CN(C)C=O.[I-]   42.8  \n",
       "143531                         C1CCOC1.O.O=C([O-])O.[Na+]   68.2  \n",
       "143532                                 CCO.Cl.[Na+].[OH-]   99.3  \n",
       "143533  CCN(CC)CC.CN(C)[P+](On1nnc2ccccc21)(N(C)C)N(C)...   65.9  \n",
       "143534                                            CO.[Ni]   77.0  \n",
       "\n",
       "[143535 rows x 4 columns]"
      ]
     },
     "execution_count": 9,
     "metadata": {},
     "output_type": "execute_result"
    }
   ],
   "source": [
    "data = pd.read_csv('/Users/suongsuong/Documents/GitHub/Data400_Spring24/USPTO_500_MIT - extracted.csv')\n",
    "data"
   ]
  },
  {
   "cell_type": "code",
   "execution_count": null,
   "id": "347f1975",
   "metadata": {},
   "outputs": [],
   "source": []
  },
  {
   "cell_type": "code",
   "execution_count": 11,
   "id": "68903a43",
   "metadata": {},
   "outputs": [],
   "source": [
    "react = \"Cc1cccc(C)c1NC(=O)CN1CCN([C@@H]2CCN[C@@H](Cc3ccc(Cl)c(Cl)c3)C2)CC1.O=C(Cl)c1cc(C(F)(F)F)cc(C(F)(F)F)c1\"\n",
    "product = \"Cc1cccc(C)c1NC(=O)CN1CCN([C@@H]2CCN(C(=O)c3cc(C(F)(F)F)cc(C(F)(F)F)c3)[C@@H](Cc3ccc(Cl)c(Cl)c3)C2)CC1\""
   ]
  },
  {
   "cell_type": "code",
   "execution_count": 82,
   "id": "147e1c95",
   "metadata": {},
   "outputs": [
    {
     "name": "stdout",
     "output_type": "stream",
     "text": [
      "before: [C@@H](Cc3ccc(Cl)c(Cl)c3)C2)CC1.O=C(Cl)c1cc(C(F)(F)F)cc(C(F)(F)F)c\n",
      "after: (C(=O)c3cc(C(F)(F)F)cc(C(F)(F)F)c3)[C@@H](Cc3ccc(Cl)c(Cl)c3)C2)CC1\n"
     ]
    }
   ],
   "source": [
    "def find_difference(react, product):\n",
    "    # Find the first difference going forwards\n",
    "    for i in range(min(len(react), len(product))):\n",
    "        if react[i] != product[i]:\n",
    "            react_startpoint = i\n",
    "            product_startpoint = i\n",
    "            break\n",
    "    for i in range(1, min(len(react), len(product)) + 1):\n",
    "        if react[-i] != product[-i]:\n",
    "            react_endpoint = i\n",
    "            before = react[react_startpoint:react_endpoint]\n",
    "            if product[-i] == react[react_startpoint-1]:\n",
    "                after = \"\"\n",
    "            else:\n",
    "                product_endpoint = i\n",
    "                after = product[product_startpoint:product_endpoint]\n",
    "            \n",
    "    return f\"before: {before}\\nafter: {after}\"\n",
    "    \n",
    "\n",
    "react = \"Cc1cccc(C)c1NC(=O)CN1CCN([C@@H]2CCN[C@@H](Cc3ccc(Cl)c(Cl)c3)C2)CC1.O=C(Cl)c1cc(C(F)(F)F)cc(C(F)(F)F)c1\"\n",
    "product = \"Cc1cccc(C)c1NC(=O)CN1CCN([C@@H]2CCN(C(=O)c3cc(C(F)(F)F)cc(C(F)(F)F)c3)[C@@H](Cc3ccc(Cl)c(Cl)c3)C2)CC1\"\n",
    "\n",
    "print(find_difference(react, product))\n"
   ]
  },
  {
   "cell_type": "code",
   "execution_count": 83,
   "id": "fa454e91",
   "metadata": {},
   "outputs": [
    {
     "name": "stdout",
     "output_type": "stream",
     "text": [
      "before: O)[C@H](O)CS(=O)(=O)c1ccc2cc(Cl)ccc2c1.O=C1COCCN1C1CC\n",
      "after: [C@H](O)CS(=O)(=O)c1ccc2cc(Cl)ccc2c1)N1CCC(N2CCOCC2=O\n"
     ]
    }
   ],
   "source": [
    "def find_difference(react, product):\n",
    "    # Find the first difference going forwards\n",
    "    for i in range(min(len(react), len(product))):\n",
    "        if react[i] != product[i]:\n",
    "            react_startpoint = i\n",
    "            product_startpoint = i\n",
    "            break\n",
    "    for i in range(1, min(len(react), len(product)) + 1):\n",
    "        if react[-i] != product[-i]:\n",
    "            react_endpoint = i\n",
    "            before = react[react_startpoint:react_endpoint]\n",
    "            if product[-i] == react[react_startpoint-1]:\n",
    "                after = \"\"\n",
    "            else:\n",
    "                product_endpoint = i\n",
    "                after = product[product_startpoint:product_endpoint]\n",
    "            \n",
    "    return f\"before: {before}\\nafter: {after}\"\n",
    "    \n",
    "\n",
    "react = \"O=C(O)[C@H](O)CS(=O)(=O)c1ccc2cc(Cl)ccc2c1.O=C1COCCN1C1CCNCC1\"\n",
    "product = \"O=C([C@H](O)CS(=O)(=O)c1ccc2cc(Cl)ccc2c1)N1CCC(N2CCOCC2=O)CC1\"\n",
    "print(find_difference(react, product))\n"
   ]
  },
  {
   "cell_type": "code",
   "execution_count": 11,
   "id": "c51054e5",
   "metadata": {},
   "outputs": [],
   "source": [
    "data = {\n",
    "    'string': [['sd', 'dssc'], ['zdvn', 'sdv']],\n",
    "    'count': [3, 4]\n",
    "}\n",
    "\n",
    "# Creating the DataFrame\n",
    "df = pd.DataFrame(data)"
   ]
  },
  {
   "cell_type": "code",
   "execution_count": 15,
   "id": "30ddef93",
   "metadata": {},
   "outputs": [
    {
     "name": "stdout",
     "output_type": "stream",
     "text": [
      "        string  count\n",
      "0   [sd, dssc]      4\n",
      "1  [zdvn, sdv]      4\n"
     ]
    }
   ],
   "source": [
    "# Checking if ['sd', 'dssc'] is in the 'string' column and updating the 'count' accordingly\n",
    "for index, row in df.iterrows():\n",
    "    if set(['sd', 'dssc']) == set(row['string']):\n",
    "        df.at[index, 'count'] += 1\n",
    "\n",
    "# Displaying the updated DataFrame\n",
    "print(df)"
   ]
  },
  {
   "cell_type": "code",
   "execution_count": 16,
   "id": "e83ff03d",
   "metadata": {},
   "outputs": [
    {
     "data": {
      "text/html": [
       "<div>\n",
       "<style scoped>\n",
       "    .dataframe tbody tr th:only-of-type {\n",
       "        vertical-align: middle;\n",
       "    }\n",
       "\n",
       "    .dataframe tbody tr th {\n",
       "        vertical-align: top;\n",
       "    }\n",
       "\n",
       "    .dataframe thead th {\n",
       "        text-align: right;\n",
       "    }\n",
       "</style>\n",
       "<table border=\"1\" class=\"dataframe\">\n",
       "  <thead>\n",
       "    <tr style=\"text-align: right;\">\n",
       "      <th></th>\n",
       "      <th>string</th>\n",
       "      <th>count</th>\n",
       "    </tr>\n",
       "  </thead>\n",
       "  <tbody>\n",
       "    <tr>\n",
       "      <th>0</th>\n",
       "      <td>[sd, dssc]</td>\n",
       "      <td>4</td>\n",
       "    </tr>\n",
       "    <tr>\n",
       "      <th>1</th>\n",
       "      <td>[zdvn, sdv]</td>\n",
       "      <td>4</td>\n",
       "    </tr>\n",
       "  </tbody>\n",
       "</table>\n",
       "</div>"
      ],
      "text/plain": [
       "        string  count\n",
       "0   [sd, dssc]      4\n",
       "1  [zdvn, sdv]      4"
      ]
     },
     "execution_count": 16,
     "metadata": {},
     "output_type": "execute_result"
    }
   ],
   "source": [
    "df"
   ]
  },
  {
   "cell_type": "code",
   "execution_count": null,
   "id": "ee844743",
   "metadata": {},
   "outputs": [],
   "source": []
  }
 ],
 "metadata": {
  "kernelspec": {
   "display_name": "Python 3 (ipykernel)",
   "language": "python",
   "name": "python3"
  },
  "language_info": {
   "codemirror_mode": {
    "name": "ipython",
    "version": 3
   },
   "file_extension": ".py",
   "mimetype": "text/x-python",
   "name": "python",
   "nbconvert_exporter": "python",
   "pygments_lexer": "ipython3",
   "version": "3.9.13"
  }
 },
 "nbformat": 4,
 "nbformat_minor": 5
}
