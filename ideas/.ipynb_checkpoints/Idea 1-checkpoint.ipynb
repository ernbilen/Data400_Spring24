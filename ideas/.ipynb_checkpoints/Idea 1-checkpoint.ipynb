{
 "cells": [
  {
   "cell_type": "markdown",
   "id": "8ee1423d",
   "metadata": {},
   "source": [
    "Intro to the Data\n",
    "\n",
    "The chosen dataset, titled Global Trends in Mental Health Disorder, demonstrates one possibility of how I could use Data Analytics practices within my Sociology concentration. There are many reasons why this specific dataset would apply to Sociological research, but my aim in choosing it was to provide an overview of how mental health is affecting the world. One of the advantages of this data is the ability to compare disorder percentages across decades (1990-2017) which, combined with outside news, could be used to give reason to any large changes in mental health. There are many disorders that are covered by this data set including schizophrenia, bipolar disorder, eating disorders, anxiety disorders, drug use disorders, depression and alcohol use disorders. This means that there are numerous ways in which this data could be analyzed. How has the prevalence of mental health disorders changed overall? Is there one specific type of disorder that has increased over time? In which countries/areas of the world? In which genders? Like I said, my reasoning for choosing this dataset in particular is because of the wide variety of sociological areas that could be touched on. In addition to that, it could help hone my interest in discovering ideas for my project later in the semester."
   ]
  },
  {
   "cell_type": "markdown",
   "id": "b3e5f338",
   "metadata": {},
   "source": [
    "Potential Ethical Implications\n",
    "\n",
    "Due to the nature of sociological research, there are a lot of ethical issues that could come up in the data analysis process. Sociology is the study of people and society as a whole, and with that comes intricate ethical factors, such as privacy. This is especially true given the topic of this dataset, mental health disorders, which can be seen as incredibly private, often embarrassing information. To reduce an entire human experience to a number has its own issues, because there's no way to fully capture each sample to its full capacity while formulating a consise data set that can be analyzed properly. As a result of this, this data has the chance to be unreliable. How is the data collection service and/or historical records able to correctly count the number of schizophrenia diagnoses? What about people who go their entire lives without a diagnosis at all? There are many components to this type of private, complicated data that cannot be trusted. But if we didn't study this data, we wouldn't have any sort of idea of how to proceed with medical or social programs to help people who are suffering."
   ]
  },
  {
   "cell_type": "markdown",
   "id": "3ef2d994",
   "metadata": {},
   "source": [
    "Data Processing Details\n",
    "\n",
    "This dataset can be found on Kaggle.com by user Amit. Next steps for data processing could include cutting down the samples to include a smaller range of yearly data or only including the gender breakdowns, etc. This decision would come from finalizing a research question that is reasonable to analyze within the time frame of this mini project. Currently, this dataset has 108,554 samples and 11 columns but from what I can see, it could be easily broken up and cleaned to accommodate different research questions as needed."
   ]
  }
 ],
 "metadata": {
  "kernelspec": {
   "display_name": "Python 3 (ipykernel)",
   "language": "python",
   "name": "python3"
  },
  "language_info": {
   "codemirror_mode": {
    "name": "ipython",
    "version": 3
   },
   "file_extension": ".py",
   "mimetype": "text/x-python",
   "name": "python",
   "nbconvert_exporter": "python",
   "pygments_lexer": "ipython3",
   "version": "3.9.13"
  }
 },
 "nbformat": 4,
 "nbformat_minor": 5
}
