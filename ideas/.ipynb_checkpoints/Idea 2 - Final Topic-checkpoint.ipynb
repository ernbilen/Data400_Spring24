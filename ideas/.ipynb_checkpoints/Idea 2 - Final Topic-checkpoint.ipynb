{
 "cells": [
  {
   "cell_type": "markdown",
   "id": "7850ed1f",
   "metadata": {},
   "source": [
    "*final mini project topic!"
   ]
  },
  {
   "cell_type": "markdown",
   "id": "94122010",
   "metadata": {},
   "source": [
    "Intro to the Data\n",
    "\n",
    "This dataset, titled Prison population in the US, is going to be the dataset that I use for my mini project! Compared to my other ideas, this is the one that I am most excited to look into because I have a clear research question in mind. The dataset consists of prison data collected from 18 of the 50 US states. In literature, it is clear that there are problems within the prison system, because of the racial history on which it was built. My question for this mini project is how the Covid-19 pandemic affected these racial inequalities that are found within this system. My idea is that I would only use the data from 2017-2019 to understand the pre-pandemic situation and then 2020-2022 data to compare. Overall, usage of this dataset can only help to create awareness about the racial undertones of the prison system. If I find that the pandemic has changed (in either direction) the percentages of incarcerated people of color, I'll be able to use that information to educate others on how different racial groups have been affected. "
   ]
  },
  {
   "cell_type": "markdown",
   "id": "e917f477",
   "metadata": {},
   "source": [
    "Potential Ethical Implications\n",
    "\n",
    "As I said in the first idea write-up, using data analytics within sociological research is always going to have privacy and ethical issues. We cannot be sure that the data we're using is representative of entire populations of people. And there's no way to know if the data available for this topic in particular is accurate. We know that there are racial inequalities in the prison system but what if these inequalities are under-represented in the data, leading data scientists to find nothing? These are people, with stories and feelings and experiences, and they cannot be represented accurately as simply another number. But we must use the system's data to start this process. Our hope is that it was collected properly and it represents the truth within prisons in the US. Other potential ethical issues include informed consent, other biases, and confidentiality. "
   ]
  },
  {
   "cell_type": "markdown",
   "id": "b4e35227",
   "metadata": {},
   "source": [
    "Data Processing\n",
    "\n",
    "This dataset can be found on Kaggle.com by user konradb. It consists of 1915 samples from 18 US states and tracks total incarceration admissions and releases, broken down by race. To answer my research question, I would first clean the data accordingly (delete unnecessary data, organize by state and/or year, check for missing values, EDA, etc). Then, I would need to complete analysis on each of the two time periods of data (pre and post pandemic). After that, comparison! I would need to decide what exactly I want to compare depending on what the numbers show (for example: which racial groups? percentage of imprisoned or released?). Lastly, deciding on a plan of action depending on the results. What are the implications of this research? How can it be used for good?"
   ]
  },
  {
   "cell_type": "code",
   "execution_count": null,
   "id": "7e4e3acc",
   "metadata": {},
   "outputs": [],
   "source": []
  }
 ],
 "metadata": {
  "kernelspec": {
   "display_name": "Python 3 (ipykernel)",
   "language": "python",
   "name": "python3"
  },
  "language_info": {
   "codemirror_mode": {
    "name": "ipython",
    "version": 3
   },
   "file_extension": ".py",
   "mimetype": "text/x-python",
   "name": "python",
   "nbconvert_exporter": "python",
   "pygments_lexer": "ipython3",
   "version": "3.9.13"
  }
 },
 "nbformat": 4,
 "nbformat_minor": 5
}
